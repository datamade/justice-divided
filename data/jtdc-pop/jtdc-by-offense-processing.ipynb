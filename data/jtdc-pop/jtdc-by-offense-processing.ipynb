{
 "cells": [
  {
   "cell_type": "code",
   "execution_count": 17,
   "metadata": {
    "collapsed": false
   },
   "outputs": [],
   "source": [
    "import os\n",
    "\n",
    "import matplotlib as plt\n",
    "import pandas as pd\n",
    "\n",
    "%matplotlib inline\n",
    "plt.style.use('ggplot')"
   ]
  },
  {
   "cell_type": "code",
   "execution_count": 108,
   "metadata": {
    "collapsed": false
   },
   "outputs": [
    {
     "data": {
      "text/plain": [
       "['jtdc-offense-type-arrest-warrant.csv',\n",
       " 'jtdc-offense-type-court-hold.csv',\n",
       " 'jtdc-offense-type-new-offense.csv',\n",
       " 'jtdc-offense-type-probation-viol.csv',\n",
       " 'jtdc-offense-type-total.csv']"
      ]
     },
     "execution_count": 108,
     "metadata": {},
     "output_type": "execute_result"
    }
   ],
   "source": [
    "files = os.listdir('./by-offense/raw')\n",
    "del files[0]\n",
    "files"
   ]
  },
  {
   "cell_type": "code",
   "execution_count": 122,
   "metadata": {
    "collapsed": true
   },
   "outputs": [],
   "source": [
    "def split_cols(x):\n",
    "    for ind, col in enumerate(x):\n",
    "        if ind == 0:\n",
    "            s = 'no_probation'\n",
    "        elif ind == 1:\n",
    "            s = 'probation'\n",
    "        else:\n",
    "            s = 'total'\n",
    "        x['%s_num' % s] = x[1].apply(lambda x: x.split(' ')[0])\n",
    "        x['%s_pct' % s] = x[1].apply(lambda x: x.split(' ')[1]).str.rstrip('%')\n",
    "        x['%s_avg_los' % s] = x[1].apply(lambda x: x.split(' ')[2])\n",
    "    x.columns.values[0] = 'offense_type'\n",
    "    x.drop([1, 2, 3], axis=1, inplace=True)"
   ]
  },
  {
   "cell_type": "code",
   "execution_count": 120,
   "metadata": {
    "collapsed": false
   },
   "outputs": [],
   "source": [
    "for file in files:\n",
    "    try:\n",
    "        df = pd.read_csv('./by-offense/raw/%s' % file, header=None, skiprows=1)\n",
    "        split_cols(df)\n",
    "        df.to_csv('./by-offense/processed/%s' % file, index=False)\n",
    "    except KeyError:\n",
    "        print('key error')\n",
    "        continue"
   ]
  }
 ],
 "metadata": {
  "kernelspec": {
   "display_name": "Python 3",
   "language": "python",
   "name": "python3"
  },
  "language_info": {
   "codemirror_mode": {
    "name": "ipython",
    "version": 3
   },
   "file_extension": ".py",
   "mimetype": "text/x-python",
   "name": "python",
   "nbconvert_exporter": "python",
   "pygments_lexer": "ipython3",
   "version": "3.5.2"
  }
 },
 "nbformat": 4,
 "nbformat_minor": 1
}
