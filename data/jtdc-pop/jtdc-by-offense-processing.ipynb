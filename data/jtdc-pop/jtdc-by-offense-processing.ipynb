{
 "cells": [
  {
   "cell_type": "code",
   "execution_count": 125,
   "metadata": {
    "collapsed": false
   },
   "outputs": [],
   "source": [
    "import os\n",
    "\n",
    "import matplotlib as plt\n",
    "import pandas as pd\n",
    "\n",
    "%matplotlib inline\n",
    "plt.style.use('ggplot')"
   ]
  },
  {
   "cell_type": "code",
   "execution_count": 143,
   "metadata": {
    "collapsed": false
   },
   "outputs": [
    {
     "data": {
      "text/plain": [
       "['jtdc-offense-type-arrest-warrant.csv',\n",
       " 'jtdc-offense-type-court-hold.csv',\n",
       " 'jtdc-offense-type-new-offense.csv',\n",
       " 'jtdc-offense-type-probation-viol.csv',\n",
       " 'jtdc-offense-type-total.csv']"
      ]
     },
     "execution_count": 143,
     "metadata": {},
     "output_type": "execute_result"
    }
   ],
   "source": [
    "files = os.listdir('./by-offense/raw')\n",
    "del files[0]\n",
    "files"
   ]
  },
  {
   "cell_type": "code",
   "execution_count": 144,
   "metadata": {
    "collapsed": false
   },
   "outputs": [
    {
     "data": {
      "text/html": [
       "<div>\n",
       "<table border=\"1\" class=\"dataframe\">\n",
       "  <thead>\n",
       "    <tr style=\"text-align: right;\">\n",
       "      <th></th>\n",
       "      <th>0</th>\n",
       "      <th>1</th>\n",
       "      <th>2</th>\n",
       "      <th>3</th>\n",
       "    </tr>\n",
       "  </thead>\n",
       "  <tbody>\n",
       "    <tr>\n",
       "      <th>0</th>\n",
       "      <td>Juvenile Arrest Warrant</td>\n",
       "      <td>23 25% 53</td>\n",
       "      <td>60 45% 38</td>\n",
       "      <td>83 37% 42</td>\n",
       "    </tr>\n",
       "    <tr>\n",
       "      <th>1</th>\n",
       "      <td>Person</td>\n",
       "      <td>9 39% 26</td>\n",
       "      <td>25 42% 47</td>\n",
       "      <td>34 41% 42</td>\n",
       "    </tr>\n",
       "    <tr>\n",
       "      <th>2</th>\n",
       "      <td>Weapons</td>\n",
       "      <td>8 35% 42</td>\n",
       "      <td>11 18% 51</td>\n",
       "      <td>19 23% 47</td>\n",
       "    </tr>\n",
       "    <tr>\n",
       "      <th>3</th>\n",
       "      <td>Property</td>\n",
       "      <td>2 9% 230</td>\n",
       "      <td>18 30% 17</td>\n",
       "      <td>20 24% 38</td>\n",
       "    </tr>\n",
       "    <tr>\n",
       "      <th>4</th>\n",
       "      <td>Drug - Controlled Substance</td>\n",
       "      <td>3 13% 58</td>\n",
       "      <td>2 3% 16</td>\n",
       "      <td>5 6% 41</td>\n",
       "    </tr>\n",
       "    <tr>\n",
       "      <th>5</th>\n",
       "      <td>Drug – Cannabis</td>\n",
       "      <td>0 0% 0</td>\n",
       "      <td>0 0% 0</td>\n",
       "      <td>0 0% 0</td>\n",
       "    </tr>\n",
       "    <tr>\n",
       "      <th>6</th>\n",
       "      <td>Sex Crimes</td>\n",
       "      <td>0 0% 0</td>\n",
       "      <td>3 5% 29</td>\n",
       "      <td>3 4% 29</td>\n",
       "    </tr>\n",
       "    <tr>\n",
       "      <th>7</th>\n",
       "      <td>Other</td>\n",
       "      <td>1 4% 11</td>\n",
       "      <td>1 2% 99</td>\n",
       "      <td>2 2% 55</td>\n",
       "    </tr>\n",
       "  </tbody>\n",
       "</table>\n",
       "</div>"
      ],
      "text/plain": [
       "                              0           1           2           3\n",
       "0      Juvenile Arrest Warrant   23 25% 53   60 45% 38   83 37% 42 \n",
       "1                       Person    9 39% 26   25 42% 47   34 41% 42 \n",
       "2                      Weapons    8 35% 42   11 18% 51   19 23% 47 \n",
       "3                     Property    2 9% 230   18 30% 17   20 24% 38 \n",
       "4  Drug - Controlled Substance    3 13% 58     2 3% 16     5 6% 41 \n",
       "5              Drug – Cannabis      0 0% 0      0 0% 0      0 0% 0 \n",
       "6                   Sex Crimes      0 0% 0     3 5% 29     3 4% 29 \n",
       "7                        Other     1 4% 11     1 2% 99     2 2% 55 "
      ]
     },
     "execution_count": 144,
     "metadata": {},
     "output_type": "execute_result"
    }
   ],
   "source": [
    "pd.read_csv('./by-offense/raw/%s' % files[0], header=None, skiprows=1)"
   ]
  },
  {
   "cell_type": "code",
   "execution_count": 164,
   "metadata": {
    "collapsed": true
   },
   "outputs": [],
   "source": [
    "def split_cols(x):\n",
    "    for i in range(1, 4):\n",
    "        if i == 1:\n",
    "            s = 'no_probation'\n",
    "        elif i == 2:\n",
    "            s = 'probation'\n",
    "        else:\n",
    "            s = 'total'\n",
    "        x['%s_num' % s] = x[i].apply(lambda x: x.split(' ')[0])\n",
    "        x['%s_pct' % s] = x[i].apply(lambda x: x.split(' ')[1]).str.rstrip('%')\n",
    "        x['%s_avg_los' % s] = x[i].apply(lambda x: x.split(' ')[2])\n",
    "    x.columns.values[0] = 'offense_type'\n",
    "    x['offense_type'] = x['offense_type'].str.rstrip()\n",
    "    x.drop([1, 2, 3], axis=1, inplace=True)"
   ]
  },
  {
   "cell_type": "code",
   "execution_count": 165,
   "metadata": {
    "collapsed": false
   },
   "outputs": [],
   "source": [
    "# generate individual csvs for each reason for detention by offense type\n",
    "for file in files:\n",
    "    df = pd.read_csv('./by-offense/raw/%s' % file, header=None, skiprows=1)\n",
    "    split_cols(df)\n",
    "    df.to_csv('./by-offense/processed/%s' % file, index=False)"
   ]
  },
  {
   "cell_type": "code",
   "execution_count": 185,
   "metadata": {
    "collapsed": false
   },
   "outputs": [],
   "source": [
    "# read in individual csvs\n",
    "df = pd.concat([pd.read_csv('by-offense/processed/%s' % f) for f in files]).reset_index(drop=True)\n",
    "# grab reasons for detention (for each reason, total row precedes offense type breakdown)\n",
    "offense_types = list(df.ix[[n for n in range(0, len(df), 8)]]['offense_type'])\n",
    "# drop grand total row (bc we can reproduce if we want)\n",
    "df.drop(len(df)-1, inplace=True)\n",
    "# set reason_for_detention for each range of rows it applies to and delete total row\n",
    "for ind, x in enumerate(range(0, len(df), 8)):\n",
    "    df.loc[x:x+8, 'reason_for_detention'] = offense_types[ind]\n",
    "    if x != 24: # probation violation; only one row\n",
    "        df.drop(x, inplace=True)"
   ]
  },
  {
   "cell_type": "code",
   "execution_count": 186,
   "metadata": {
    "collapsed": false
   },
   "outputs": [],
   "source": [
    "df.to_csv('by-offense/processed/jtdc-offense-type-all.csv', index=False)"
   ]
  }
 ],
 "metadata": {
  "kernelspec": {
   "display_name": "Python 3",
   "language": "python",
   "name": "python3"
  },
  "language_info": {
   "codemirror_mode": {
    "name": "ipython",
    "version": 3
   },
   "file_extension": ".py",
   "mimetype": "text/x-python",
   "name": "python",
   "nbconvert_exporter": "python",
   "pygments_lexer": "ipython3",
   "version": "3.5.2"
  }
 },
 "nbformat": 4,
 "nbformat_minor": 1
}
