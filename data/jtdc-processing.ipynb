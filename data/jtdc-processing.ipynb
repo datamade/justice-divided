{
 "cells": [
  {
   "cell_type": "code",
   "execution_count": 497,
   "metadata": {
    "collapsed": false
   },
   "outputs": [],
   "source": [
    "import glob\n",
    "import os\n",
    "\n",
    "import matplotlib as plt\n",
    "import pandas as pd\n",
    "pd.set_option('precision', 2)\n",
    "\n",
    "%matplotlib inline\n",
    "plt.style.use('ggplot')"
   ]
  },
  {
   "cell_type": "code",
   "execution_count": 484,
   "metadata": {
    "collapsed": true
   },
   "outputs": [],
   "source": [
    "def plot(df, attr_str):\n",
    "    p = df[['attr', 'number']].plot(kind='bar', x='attr', y='number', legend=False, title='jtdc - inmate %s' % attr_str)\n",
    "    p.set_xlabel(attr_str)\n",
    "    p.set_xticklabels(df['attr'], rotation=0)\n",
    "    p.set_ylabel('count')"
   ]
  },
  {
   "cell_type": "code",
   "execution_count": 485,
   "metadata": {
    "collapsed": false
   },
   "outputs": [],
   "source": [
    "files = os.listdir('.')\n",
    "\n",
    "def skiptrailingspace(s):\n",
    "    return s.rstrip()\n",
    "\n",
    "def process(df):\n",
    "    df.columns = ['attr', 'number', 'pct']\n",
    "    df['number'] = pd.to_numeric(df['number'])\n",
    "    df['pct'] = df['pct'].str.rstrip('% ')\n",
    "    df['pct'] = pd.to_numeric(df['pct'])\n",
    "    df['total_pop'] = 225\n",
    "    df['pct_check'] = df['number'] / df['total_pop'] * 100"
   ]
  },
  {
   "cell_type": "code",
   "execution_count": 486,
   "metadata": {
    "collapsed": false
   },
   "outputs": [
    {
     "name": "stdout",
     "output_type": "stream",
     "text": [
      "by_age_df generated\n",
      "by_gender_df generated\n",
      "by_probation_involved_df generated\n",
      "by_race_df generated\n",
      "by_reason_for_hold_df generated\n",
      "los_rur_df generated\n",
      "problem processing los_rur_df\n"
     ]
    }
   ],
   "source": [
    "for f in files:\n",
    "    if 'csv' in str(f):\n",
    "        spec = f.partition('population-')[2].partition('-10')[0]\n",
    "        csv = os.path.join(os.getcwd(), f)\n",
    "        df = '%s_df' % '_'.join(spec.split('-'))\n",
    "        try:\n",
    "            exec('%s = pd.read_csv(csv, header=None, skiprows=1, converters={0: skiptrailingspace})' % df)\n",
    "            print('%s generated' % df)\n",
    "            exec('process(%s)' % df)\n",
    "            dest = os.path.join(os.getcwd(), 'processed/%s' % f)\n",
    "            exec('%s.to_csv(dest, index=False)' % df)\n",
    "        except:\n",
    "            print('problem processing %s' % df)\n",
    "            continue\n",
    "    "
   ]
  },
  {
   "cell_type": "code",
   "execution_count": 487,
   "metadata": {
    "collapsed": false
   },
   "outputs": [
    {
     "data": {
      "text/html": [
       "<div>\n",
       "<table border=\"1\" class=\"dataframe\">\n",
       "  <thead>\n",
       "    <tr style=\"text-align: right;\">\n",
       "      <th></th>\n",
       "      <th>attr</th>\n",
       "      <th>number</th>\n",
       "      <th>pct</th>\n",
       "      <th>total_pop</th>\n",
       "      <th>pct_check</th>\n",
       "    </tr>\n",
       "  </thead>\n",
       "  <tbody>\n",
       "    <tr>\n",
       "      <th>0</th>\n",
       "      <td>Male</td>\n",
       "      <td>200</td>\n",
       "      <td>89</td>\n",
       "      <td>225</td>\n",
       "      <td>88.89</td>\n",
       "    </tr>\n",
       "    <tr>\n",
       "      <th>1</th>\n",
       "      <td>Female</td>\n",
       "      <td>25</td>\n",
       "      <td>11</td>\n",
       "      <td>225</td>\n",
       "      <td>11.11</td>\n",
       "    </tr>\n",
       "  </tbody>\n",
       "</table>\n",
       "</div>"
      ],
      "text/plain": [
       "     attr  number  pct  total_pop  pct_check\n",
       "0    Male     200   89        225      88.89\n",
       "1  Female      25   11        225      11.11"
      ]
     },
     "execution_count": 487,
     "metadata": {},
     "output_type": "execute_result"
    }
   ],
   "source": [
    "by_gender_df"
   ]
  },
  {
   "cell_type": "code",
   "execution_count": 488,
   "metadata": {
    "collapsed": false
   },
   "outputs": [
    {
     "data": {
      "image/png": "[encoded data removed]",
      "text/plain": [
       "<matplotlib.figure.Figure at 0x111c89dd0>"
      ]
     },
     "metadata": {},
     "output_type": "display_data"
    }
   ],
   "source": [
    "plot(by_gender_df, 'gender')"
   ]
  },
  {
   "cell_type": "code",
   "execution_count": 489,
   "metadata": {
    "collapsed": false
   },
   "outputs": [
    {
     "data": {
      "text/html": [
       "<div>\n",
       "<table border=\"1\" class=\"dataframe\">\n",
       "  <thead>\n",
       "    <tr style=\"text-align: right;\">\n",
       "      <th></th>\n",
       "      <th>attr</th>\n",
       "      <th>number</th>\n",
       "      <th>pct</th>\n",
       "      <th>total_pop</th>\n",
       "      <th>pct_check</th>\n",
       "    </tr>\n",
       "  </thead>\n",
       "  <tbody>\n",
       "    <tr>\n",
       "      <th>0</th>\n",
       "      <td>12</td>\n",
       "      <td>2</td>\n",
       "      <td>1</td>\n",
       "      <td>225</td>\n",
       "      <td>0.89</td>\n",
       "    </tr>\n",
       "    <tr>\n",
       "      <th>1</th>\n",
       "      <td>13</td>\n",
       "      <td>7</td>\n",
       "      <td>3</td>\n",
       "      <td>225</td>\n",
       "      <td>3.11</td>\n",
       "    </tr>\n",
       "    <tr>\n",
       "      <th>2</th>\n",
       "      <td>14</td>\n",
       "      <td>17</td>\n",
       "      <td>8</td>\n",
       "      <td>225</td>\n",
       "      <td>7.56</td>\n",
       "    </tr>\n",
       "    <tr>\n",
       "      <th>3</th>\n",
       "      <td>15</td>\n",
       "      <td>36</td>\n",
       "      <td>16</td>\n",
       "      <td>225</td>\n",
       "      <td>16.00</td>\n",
       "    </tr>\n",
       "    <tr>\n",
       "      <th>4</th>\n",
       "      <td>16</td>\n",
       "      <td>74</td>\n",
       "      <td>33</td>\n",
       "      <td>225</td>\n",
       "      <td>32.89</td>\n",
       "    </tr>\n",
       "    <tr>\n",
       "      <th>5</th>\n",
       "      <td>17</td>\n",
       "      <td>76</td>\n",
       "      <td>34</td>\n",
       "      <td>225</td>\n",
       "      <td>33.78</td>\n",
       "    </tr>\n",
       "    <tr>\n",
       "      <th>6</th>\n",
       "      <td>18</td>\n",
       "      <td>12</td>\n",
       "      <td>5</td>\n",
       "      <td>225</td>\n",
       "      <td>5.33</td>\n",
       "    </tr>\n",
       "    <tr>\n",
       "      <th>7</th>\n",
       "      <td>19</td>\n",
       "      <td>1</td>\n",
       "      <td>0</td>\n",
       "      <td>225</td>\n",
       "      <td>0.44</td>\n",
       "    </tr>\n",
       "  </tbody>\n",
       "</table>\n",
       "</div>"
      ],
      "text/plain": [
       "  attr  number  pct  total_pop  pct_check\n",
       "0   12       2    1        225       0.89\n",
       "1   13       7    3        225       3.11\n",
       "2   14      17    8        225       7.56\n",
       "3   15      36   16        225      16.00\n",
       "4   16      74   33        225      32.89\n",
       "5   17      76   34        225      33.78\n",
       "6   18      12    5        225       5.33\n",
       "7   19       1    0        225       0.44"
      ]
     },
     "execution_count": 489,
     "metadata": {},
     "output_type": "execute_result"
    }
   ],
   "source": [
    "by_age_df"
   ]
  },
  {
   "cell_type": "code",
   "execution_count": 490,
   "metadata": {
    "collapsed": false
   },
   "outputs": [
    {
     "data": {
      "image/png": "[encoded data removed]",
      "text/plain": [
       "<matplotlib.figure.Figure at 0x115b19f10>"
      ]
     },
     "metadata": {},
     "output_type": "display_data"
    }
   ],
   "source": [
    "plot(by_age_df, 'age')"
   ]
  },
  {
   "cell_type": "code",
   "execution_count": 491,
   "metadata": {
    "collapsed": false
   },
   "outputs": [
    {
     "data": {
      "text/html": [
       "<div>\n",
       "<table border=\"1\" class=\"dataframe\">\n",
       "  <thead>\n",
       "    <tr style=\"text-align: right;\">\n",
       "      <th></th>\n",
       "      <th>attr</th>\n",
       "      <th>number</th>\n",
       "      <th>pct</th>\n",
       "      <th>total_pop</th>\n",
       "      <th>pct_check</th>\n",
       "    </tr>\n",
       "  </thead>\n",
       "  <tbody>\n",
       "    <tr>\n",
       "      <th>0</th>\n",
       "      <td>Probation involved at time of hold</td>\n",
       "      <td>132</td>\n",
       "      <td>59</td>\n",
       "      <td>225</td>\n",
       "      <td>58.67</td>\n",
       "    </tr>\n",
       "    <tr>\n",
       "      <th>1</th>\n",
       "      <td>Non Probation involved</td>\n",
       "      <td>93</td>\n",
       "      <td>41</td>\n",
       "      <td>225</td>\n",
       "      <td>41.33</td>\n",
       "    </tr>\n",
       "  </tbody>\n",
       "</table>\n",
       "</div>"
      ],
      "text/plain": [
       "                                 attr  number  pct  total_pop  pct_check\n",
       "0  Probation involved at time of hold     132   59        225      58.67\n",
       "1              Non Probation involved      93   41        225      41.33"
      ]
     },
     "execution_count": 491,
     "metadata": {},
     "output_type": "execute_result"
    }
   ],
   "source": [
    "by_probation_involved_df"
   ]
  },
  {
   "cell_type": "code",
   "execution_count": 492,
   "metadata": {
    "collapsed": false
   },
   "outputs": [
    {
     "data": {
      "image/png": "[encoded data removed]",
      "text/plain": [
       "<matplotlib.figure.Figure at 0x114249450>"
      ]
     },
     "metadata": {},
     "output_type": "display_data"
    }
   ],
   "source": [
    "plot(by_probation_involved_df, 'probation involved')"
   ]
  },
  {
   "cell_type": "code",
   "execution_count": 493,
   "metadata": {
    "collapsed": false
   },
   "outputs": [
    {
     "data": {
      "text/html": [
       "<div>\n",
       "<table border=\"1\" class=\"dataframe\">\n",
       "  <thead>\n",
       "    <tr style=\"text-align: right;\">\n",
       "      <th></th>\n",
       "      <th>attr</th>\n",
       "      <th>number</th>\n",
       "      <th>pct</th>\n",
       "      <th>total_pop</th>\n",
       "      <th>pct_check</th>\n",
       "    </tr>\n",
       "  </thead>\n",
       "  <tbody>\n",
       "    <tr>\n",
       "      <th>0</th>\n",
       "      <td>Black</td>\n",
       "      <td>177</td>\n",
       "      <td>79</td>\n",
       "      <td>225</td>\n",
       "      <td>78.67</td>\n",
       "    </tr>\n",
       "    <tr>\n",
       "      <th>1</th>\n",
       "      <td>Hispanic</td>\n",
       "      <td>41</td>\n",
       "      <td>18</td>\n",
       "      <td>225</td>\n",
       "      <td>18.22</td>\n",
       "    </tr>\n",
       "    <tr>\n",
       "      <th>2</th>\n",
       "      <td>White</td>\n",
       "      <td>6</td>\n",
       "      <td>3</td>\n",
       "      <td>225</td>\n",
       "      <td>2.67</td>\n",
       "    </tr>\n",
       "    <tr>\n",
       "      <th>3</th>\n",
       "      <td>Other</td>\n",
       "      <td>1</td>\n",
       "      <td>0</td>\n",
       "      <td>225</td>\n",
       "      <td>0.44</td>\n",
       "    </tr>\n",
       "  </tbody>\n",
       "</table>\n",
       "</div>"
      ],
      "text/plain": [
       "       attr  number  pct  total_pop  pct_check\n",
       "0     Black     177   79        225      78.67\n",
       "1  Hispanic      41   18        225      18.22\n",
       "2     White       6    3        225       2.67\n",
       "3     Other       1    0        225       0.44"
      ]
     },
     "execution_count": 493,
     "metadata": {},
     "output_type": "execute_result"
    }
   ],
   "source": [
    "by_race_df"
   ]
  },
  {
   "cell_type": "code",
   "execution_count": 494,
   "metadata": {
    "collapsed": false
   },
   "outputs": [
    {
     "data": {
      "image/png": "[encoded data removed]",
      "text/plain": [
       "<matplotlib.figure.Figure at 0x114e3b7d0>"
      ]
     },
     "metadata": {},
     "output_type": "display_data"
    }
   ],
   "source": [
    "plot(by_race_df, 'race')"
   ]
  },
  {
   "cell_type": "code",
   "execution_count": 495,
   "metadata": {
    "collapsed": false
   },
   "outputs": [
    {
     "data": {
      "text/html": [
       "<div>\n",
       "<table border=\"1\" class=\"dataframe\">\n",
       "  <thead>\n",
       "    <tr style=\"text-align: right;\">\n",
       "      <th></th>\n",
       "      <th>attr</th>\n",
       "      <th>number</th>\n",
       "      <th>pct</th>\n",
       "      <th>total_pop</th>\n",
       "      <th>pct_check</th>\n",
       "    </tr>\n",
       "  </thead>\n",
       "  <tbody>\n",
       "    <tr>\n",
       "      <th>0</th>\n",
       "      <td>New Offense</td>\n",
       "      <td>116</td>\n",
       "      <td>52</td>\n",
       "      <td>225</td>\n",
       "      <td>51.56</td>\n",
       "    </tr>\n",
       "    <tr>\n",
       "      <th>1</th>\n",
       "      <td>Court Hold</td>\n",
       "      <td>20</td>\n",
       "      <td>9</td>\n",
       "      <td>225</td>\n",
       "      <td>8.89</td>\n",
       "    </tr>\n",
       "    <tr>\n",
       "      <th>2</th>\n",
       "      <td>Juvenile Arrest Warrant</td>\n",
       "      <td>83</td>\n",
       "      <td>37</td>\n",
       "      <td>225</td>\n",
       "      <td>36.89</td>\n",
       "    </tr>\n",
       "    <tr>\n",
       "      <th>3</th>\n",
       "      <td>Violation of Probation</td>\n",
       "      <td>6</td>\n",
       "      <td>3</td>\n",
       "      <td>225</td>\n",
       "      <td>2.67</td>\n",
       "    </tr>\n",
       "  </tbody>\n",
       "</table>\n",
       "</div>"
      ],
      "text/plain": [
       "                      attr  number  pct  total_pop  pct_check\n",
       "0              New Offense     116   52        225      51.56\n",
       "1               Court Hold      20    9        225       8.89\n",
       "2  Juvenile Arrest Warrant      83   37        225      36.89\n",
       "3   Violation of Probation       6    3        225       2.67"
      ]
     },
     "execution_count": 495,
     "metadata": {},
     "output_type": "execute_result"
    }
   ],
   "source": [
    "by_reason_for_hold_df"
   ]
  },
  {
   "cell_type": "code",
   "execution_count": 496,
   "metadata": {
    "collapsed": false
   },
   "outputs": [
    {
     "data": {
      "image/png": "[encoded data removed]",
      "text/plain": [
       "<matplotlib.figure.Figure at 0x1154090d0>"
      ]
     },
     "metadata": {},
     "output_type": "display_data"
    }
   ],
   "source": [
    "plot(by_reason_for_hold_df, 'reason for hold')"
   ]
  }
 ],
 "metadata": {
  "kernelspec": {
   "display_name": "Python 2",
   "language": "python",
   "name": "python2"
  },
  "language_info": {
   "codemirror_mode": {
    "name": "ipython",
    "version": 2
   },
   "file_extension": ".py",
   "mimetype": "text/x-python",
   "name": "python",
   "nbconvert_exporter": "python",
   "pygments_lexer": "ipython2",
   "version": "2.7.10"
  }
 },
 "nbformat": 4,
 "nbformat_minor": 0
}
